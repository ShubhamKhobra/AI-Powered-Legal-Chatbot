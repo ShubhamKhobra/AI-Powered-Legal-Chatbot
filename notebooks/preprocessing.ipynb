{
 "cells": [
  {
   "cell_type": "code",
   "execution_count": null,
   "id": "280a858a",
   "metadata": {},
   "outputs": [],
   "source": [
    "from langchain_community.document_loaders import PyPDFLoader\n",
    "from langchain.text_splitter import RecursiveCharacterTextSplitter\n",
    "from langchain.embeddings import HuggingFaceEmbeddings\n",
    "from langchain.vectorstores import FAISS"
   ]
  },
  {
   "cell_type": "code",
   "execution_count": null,
   "id": "31a39199",
   "metadata": {},
   "outputs": [],
   "source": [
    "# load a PDF  \n",
    "loader = PyPDFLoader(\"../data/AI Training Document.pdf\")\n",
    "documents = loader.load()"
   ]
  },
  {
   "cell_type": "code",
   "execution_count": null,
   "id": "f7d25a6d",
   "metadata": {},
   "outputs": [],
   "source": [
    "# Split text \n",
    "text = RecursiveCharacterTextSplitter(chunk_size=200).split_documents(documents)"
   ]
  },
  {
   "cell_type": "code",
   "execution_count": null,
   "id": "79e2d8e1",
   "metadata": {},
   "outputs": [],
   "source": [
    "text[0:5]"
   ]
  },
  {
   "cell_type": "code",
   "execution_count": null,
   "id": "df137504",
   "metadata": {},
   "outputs": [],
   "source": [
    "# Load embedding model\n",
    "embeddings = HuggingFaceEmbeddings(model_name=\"BAAI/bge-small-en-v1.5\", \n",
    "encode_kwargs={\"normalize_embeddings\": True})"
   ]
  },
  {
   "cell_type": "code",
   "execution_count": null,
   "id": "ad6ba413",
   "metadata": {},
   "outputs": [],
   "source": [
    "# Create a vectorstore\n",
    "vectorstore = FAISS.from_documents(text, embeddings)\n",
    "\n",
    "# Save the documents and embeddings\n",
    "vectorstore.save_local(\"../vectordb/vectorstore.db\")"
   ]
  }
 ],
 "metadata": {
  "kernelspec": {
   "display_name": "rag_chatbot",
   "language": "python",
   "name": "python3"
  },
  "language_info": {
   "codemirror_mode": {
    "name": "ipython",
    "version": 3
   },
   "file_extension": ".py",
   "mimetype": "text/x-python",
   "name": "python",
   "nbconvert_exporter": "python",
   "pygments_lexer": "ipython3",
   "version": "3.11.5"
  }
 },
 "nbformat": 4,
 "nbformat_minor": 5
}
